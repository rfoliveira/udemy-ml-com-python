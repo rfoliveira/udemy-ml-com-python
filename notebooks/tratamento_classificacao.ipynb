{
 "cells": [
  {
   "cell_type": "markdown",
   "id": "75ec6fc9",
   "metadata": {},
   "source": [
    "# Previsão de doenças cardíacas\n",
    "\n",
    "Neste exemplo é demonstrado o uso de um dataset obtido no kaggle de ocorrências de ataques cardíacos, para previsão"
   ]
  },
  {
   "cell_type": "markdown",
   "id": "957a8eeb",
   "metadata": {},
   "source": [
    "## Imports necessários"
   ]
  },
  {
   "cell_type": "code",
   "execution_count": 2,
   "id": "89b3102f",
   "metadata": {},
   "outputs": [],
   "source": [
    "import numpy as np\n",
    "import pandas as pd"
   ]
  },
  {
   "cell_type": "markdown",
   "id": "8699c9ef",
   "metadata": {},
   "source": [
    "## Carga do dataset"
   ]
  },
  {
   "cell_type": "code",
   "execution_count": 4,
   "id": "edef022c",
   "metadata": {},
   "outputs": [],
   "source": [
    "dados = pd.read_csv('../datasets/heart.csv', sep=',', encoding='iso-8859-1')\n",
    "# encoding recomendados iso-8859-1, utf-8 e latin-1"
   ]
  }
 ],
 "metadata": {
  "kernelspec": {
   "display_name": "Python 3",
   "language": "python",
   "name": "python3"
  },
  "language_info": {
   "codemirror_mode": {
    "name": "ipython",
    "version": 3
   },
   "file_extension": ".py",
   "mimetype": "text/x-python",
   "name": "python",
   "nbconvert_exporter": "python",
   "pygments_lexer": "ipython3",
   "version": "3.12.0"
  }
 },
 "nbformat": 4,
 "nbformat_minor": 5
}
